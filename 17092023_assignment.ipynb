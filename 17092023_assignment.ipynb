{
  "nbformat": 4,
  "nbformat_minor": 0,
  "metadata": {
    "colab": {
      "provenance": []
    },
    "kernelspec": {
      "name": "python3",
      "display_name": "Python 3"
    },
    "language_info": {
      "name": "python"
    }
  },
  "cells": [
    {
      "cell_type": "code",
      "execution_count": 1,
      "metadata": {
        "colab": {
          "base_uri": "https://localhost:8080/"
        },
        "id": "grbm7B36o6WM",
        "outputId": "e20e74cf-9dd2-4655-fa94-1e81dfe72729"
      },
      "outputs": [
        {
          "output_type": "stream",
          "name": "stdout",
          "text": [
            "[2, 4, 6, 8]\n"
          ]
        }
      ],
      "source": [
        "def addition(n):\n",
        "    return n + n\n",
        "\n",
        "# We double all numbers using map()\n",
        "numbers = (1, 2, 3, 4)\n",
        "result = map(addition, numbers)\n",
        "print(list(result))"
      ]
    },
    {
      "cell_type": "code",
      "source": [
        "# Define a function named square_num that calculates the square of a given number 'n'\n",
        "def square_num(n):\n",
        "    return n * n\n",
        "\n",
        "# Create a list named 'nums' containing integer elements\n",
        "nums = [4, 5, 2, 9]\n",
        "\n",
        "# Print the original list of numbers\n",
        "print(\"Original List: \", nums)\n",
        "\n",
        "# Use the map function to apply the square_num function to each element of 'nums'\n",
        "result = map(square_num, nums)\n",
        "\n",
        "# Print a message indicating the operation to be performed\n",
        "print(\"Square the elements of the said list using map():\")\n",
        "\n",
        "# Print the result of the map operation as a list\n",
        "print(list(result))"
      ],
      "metadata": {
        "colab": {
          "base_uri": "https://localhost:8080/"
        },
        "id": "dBgHXStVpZrd",
        "outputId": "5745dbdc-5d6d-4272-a11e-e650b4dd0e38"
      },
      "execution_count": 2,
      "outputs": [
        {
          "output_type": "stream",
          "name": "stdout",
          "text": [
            "Original List:  [4, 5, 2, 9]\n",
            "Square the elements of the said list using map():\n",
            "[16, 25, 4, 81]\n"
          ]
        }
      ]
    },
    {
      "cell_type": "markdown",
      "source": [
        "Map VS List Comprehension\n",
        "List comprehension is more concise and easier to read as compared to map.\n",
        "List comprehension allows filtering. In map, we have no such facility. For example, to print all even numbers in range of 100, we can write [n for n in range(100) if n%2 == 0]. There is no alternate for it in map\n",
        "List comprehension are used when a list of results is required as map only returns a map object and does not return any list.\n",
        "List comprehension is faster than map when we need to evaluate expressions that are too long or complicated to express\n",
        "Map is faster in case of calling an already defined function (as no lambda is required)."
      ],
      "metadata": {
        "id": "5Q0GRXD2ppf0"
      }
    },
    {
      "cell_type": "code",
      "source": [
        "out = map(lambda x:x.upper(), ['pw', 'skills', 'data'])\n",
        "\n",
        "# Converting it into list\n",
        "output = list(out)\n",
        "\n",
        "# printing output\n",
        "print(output)"
      ],
      "metadata": {
        "colab": {
          "base_uri": "https://localhost:8080/"
        },
        "id": "VnV8QW09prXZ",
        "outputId": "42c81fe0-b6a3-466d-fc22-be95af22555b"
      },
      "execution_count": 6,
      "outputs": [
        {
          "output_type": "stream",
          "name": "stdout",
          "text": [
            "['PW', 'SKILLS', 'DATA']\n"
          ]
        }
      ]
    },
    {
      "cell_type": "code",
      "source": [],
      "metadata": {
        "id": "vZm5opgjqJ8r"
      },
      "execution_count": null,
      "outputs": []
    }
  ]
}